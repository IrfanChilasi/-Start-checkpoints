{
 "cells": [
  {
   "cell_type": "code",
   "execution_count": 1,
   "id": "52cc814b",
   "metadata": {},
   "outputs": [],
   "source": [
    "import pandas as pd"
   ]
  },
  {
   "cell_type": "code",
   "execution_count": 2,
   "id": "7d67181d",
   "metadata": {},
   "outputs": [
    {
     "data": {
      "text/plain": [
       "4"
      ]
     },
     "execution_count": 2,
     "metadata": {},
     "output_type": "execute_result"
    }
   ],
   "source": [
    " 2+2"
   ]
  },
  {
   "cell_type": "code",
   "execution_count": 3,
   "id": "0284aafe",
   "metadata": {},
   "outputs": [
    {
     "data": {
      "text/plain": [
       "1"
      ]
     },
     "execution_count": 3,
     "metadata": {},
     "output_type": "execute_result"
    }
   ],
   "source": [
    "9%2"
   ]
  },
  {
   "cell_type": "code",
   "execution_count": 4,
   "id": "b59907c5",
   "metadata": {},
   "outputs": [
    {
     "name": "stdout",
     "output_type": "stream",
     "text": [
      "THe Sum of 2 numbers is \n",
      "5\n",
      "3.0\n",
      "3\n",
      "8\n",
      "823543\n"
     ]
    }
   ],
   "source": [
    "print('THe Sum of 2 numbers is ') \n",
    "print(2+3)\n",
    "print(6/2)\n",
    "print(6//2)\n",
    "print(2**3)\n",
    "print(7**7)\n",
    "#PEMDAS\n"
   ]
  },
  {
   "cell_type": "code",
   "execution_count": 5,
   "id": "db5418a8",
   "metadata": {},
   "outputs": [
    {
     "name": "stdout",
     "output_type": "stream",
     "text": [
      "Hello world\n",
      "test for single qoutes\n",
      "test for double qoutes\n",
      "test for triple qoutes\n",
      "what's up\n",
      "5\n",
      "i started learining python today\n",
      "15\n",
      "<class 'int'>\n",
      "<class 'str'>\n",
      "<class 'str'>\n",
      "mangoes, oranges\n"
     ]
    }
   ],
   "source": [
    "print('Hello world')\n",
    "print( 'test for single qoutes')\n",
    "print( \"test for double qoutes\")\n",
    "print( '''test for triple qoutes''')\n",
    "print(\"what's up\")\n",
    "#Varibales object containing specfic values\n",
    "x=5 #numerica or integer vaiable\n",
    "print(x)\n",
    "y=\"i started learining python today\" # string variable\n",
    "print(y)\n",
    "x=x+10\n",
    "print(x)\n",
    "\n",
    "\n",
    "#Types/class of variable\n",
    "type(x)\n",
    "print(type(x))\n",
    "print(type(y))\n",
    "#print_type_class\n",
    "#Rules\n",
    "#1 variable must be letters, numbers,  or underscores\n",
    "# do not start with numbers\n",
    "#spaces are not allowed in variable name\n",
    "#not use keywords in funtction\n",
    "#short and descriptive\n",
    "#case sensitivty (lower or upper case)\n",
    "fruit_basket=\"mangoes, oranges\"\n",
    "print(type(fruit_basket))\n",
    "print(fruit_basket)"
   ]
  },
  {
   "cell_type": "code",
   "execution_count": null,
   "id": "1ba310e7",
   "metadata": {},
   "outputs": [],
   "source": [
    "#Input functions simple\n",
    "fruit_basket=\"Mangoes\"\n",
    "print(fruit_basket)\n",
    "fruit_basket=input(\"which is your favorite fruit? \")\n",
    "print(fruit_basket)\n",
    "#input function of 2nd stage\n",
    "name=input(\"what is your name? \")\n",
    "greetings=\"Hello!\"\n",
    "print(greetings,name)\n",
    "#another way\n",
    "name=input(\"what is your name? \")\n",
    "print(\"Hello!\",name)"
   ]
  },
  {
   "cell_type": "code",
   "execution_count": 10,
   "id": "94997f66",
   "metadata": {},
   "outputs": [
    {
     "name": "stdout",
     "output_type": "stream",
     "text": [
      "what is your name? irfan\n",
      "How old are you?26\n",
      "Hello! irfan you are still young\n"
     ]
    }
   ],
   "source": [
    "#3rd stage\n",
    "name=input(\"what is your name? \")\n",
    "age=input(\"How old are you?\" )\n",
    "greetings=\"Hello!\"\n",
    "print(greetings,name,\"you are still young\" )"
   ]
  },
  {
   "cell_type": "code",
   "execution_count": 24,
   "id": "9b58363c",
   "metadata": {},
   "outputs": [
    {
     "name": "stdout",
     "output_type": "stream",
     "text": [
      "True\n",
      "True\n",
      "False\n",
      "False\n",
      "True\n",
      "how old hanan is?5\n",
      "<class 'int'>\n",
      "True\n"
     ]
    }
   ],
   "source": [
    "#Chapter 7 logical conditional operater\n",
    "print(4==4)\n",
    "print(4>2)\n",
    "print(4!=4)\n",
    "print(6<3)\n",
    "print(3<=5)\n",
    "#application of logical operaters\n",
    "# hanan_age=4\n",
    "# age_requried=5\n",
    "# print(hanan_age==age_requried)\n",
    "age_requried=5\n",
    "hanan_age=input(\"how old hanan is?\" )\n",
    "hanan_age=int(hanan_age)\n",
    "print(type(hanan_age))\n",
    "print(hanan_age==age_requried)"
   ]
  },
  {
   "cell_type": "code",
   "execution_count": 39,
   "id": "dbf97060",
   "metadata": {},
   "outputs": [
    {
     "name": "stdout",
     "output_type": "stream",
     "text": [
      "100.0 <class 'float'>\n",
      "<class 'float'>\n",
      "<class 'str'>\n",
      "what is your age? 18.5\n",
      "<class 'float'>\n"
     ]
    }
   ],
   "source": [
    "#Chaptwer 8 conversion\n",
    "x=10\n",
    "y=10.0\n",
    "z=\"Hello\"\n",
    "\n",
    "x=x*y #implicit conversion\n",
    "print(x, type(x))\n",
    "print(type(y))\n",
    "print(type(z))\n",
    "\n",
    "#explicit conversion\n",
    "age=input(\"what is your age? \")\n",
    "age=float(age)\n",
    "print(type(age))"
   ]
  },
  {
   "cell_type": "code",
   "execution_count": 53,
   "id": "315adfbe",
   "metadata": {},
   "outputs": [
    {
     "name": "stdout",
     "output_type": "stream",
     "text": [
      "Congrats! hanan should join college.\n"
     ]
    }
   ],
   "source": [
    "#Chapter 9 If, else, elif\n",
    "requried_age = 5\n",
    "hanan_age = 12\n",
    "if hanan_age == requried_age:\n",
    "    print(\"hanan can join the school\")\n",
    "elif hanan_age > requried_age:\n",
    "    print(\"Congrats! hanan should join college.\")\n",
    "elif hanan_age == 2:\n",
    "    print(\"you should take care of him\")\n",
    "else:\n",
    "    print(\"hanan can't join the school\")"
   ]
  },
  {
   "cell_type": "code",
   "execution_count": 61,
   "id": "d9a118d0",
   "metadata": {},
   "outputs": [
    {
     "name": "stdout",
     "output_type": "stream",
     "text": [
      " i know irfan very well\n",
      " i know irfan very well\n",
      " i know irfan very well\n",
      "i know irfan very well\n",
      "i know irfan very well\n",
      "i know irfan very well\n",
      "hanan can't join anything\n",
      "38\n"
     ]
    }
   ],
   "source": [
    "#CHapter 10 Functions\n",
    "def print_codenics():\n",
    "    text = \" i know irfan very well\"\n",
    "    print(text)\n",
    "    print(text)\n",
    "    print(text)\n",
    "print_codenics()\n",
    "\n",
    "def print_codenics(text):\n",
    "    print(text)\n",
    "    print(text)\n",
    "    print(text)\n",
    "print_codenics(\"i know irfan very well\")\n",
    "#calculater\n",
    "def school_calculater(age,text):\n",
    "    if age==15:\n",
    "        print(\"hanan can join school\")\n",
    "    elif age> 5:\n",
    "        print(\"hanan can join college\")\n",
    "    else:\n",
    "        print(\"hanan can't join anything\")\n",
    "school_calculater(5,\"hanan\")\n",
    "\n",
    "def future_age(age):\n",
    "    new_age=age+20\n",
    "    return new_age\n",
    "    print (new_age)\n",
    "\n",
    "future_pred_age=future_age(18)\n",
    "print(future_pred_age )"
   ]
  },
  {
   "cell_type": "code",
   "execution_count": 10,
   "id": "ea540fe0",
   "metadata": {},
   "outputs": [
    {
     "name": "stdout",
     "output_type": "stream",
     "text": [
      "0\n",
      "1\n",
      "2\n",
      "3\n",
      "4\n",
      "5\n",
      "6\n",
      "7\n",
      "8\n",
      "9\n",
      "mon\n",
      "Tues\n",
      "Weds\n",
      "Thrus\n"
     ]
    }
   ],
   "source": [
    "#Chapter11   Loops  while and for loops\n",
    "#while loop\n",
    "x=0\n",
    "while(x<5):\n",
    "    print(x)\n",
    "    x=x+1\n",
    "#For loops\n",
    "for x in range(5,10):\n",
    "    print(x)\n",
    "\n",
    "#Array\n",
    "days= [\"mon\", \"Tues\", \"Weds\",\"Thrus\", \"fri\",\"Sat\",\"Sun\"]\n",
    "for d in days:\n",
    "    if (d==\"fri\"):break #loop stops\n",
    "    if (d==\"fri\"):continue # skips d   \n",
    "    print(d)"
   ]
  },
  {
   "cell_type": "code",
   "execution_count": 14,
   "id": "6aebc185",
   "metadata": {},
   "outputs": [
    {
     "name": "stdout",
     "output_type": "stream",
     "text": [
      "the value of pi is  3.141592653589793\n",
      "300\n",
      "300.0\n",
      "150\n"
     ]
    }
   ],
   "source": [
    "#CHapter12 Import libraries\n",
    "#for value of pi\n",
    "import math\n",
    "print(\"the value of pi is \",math.pi)\n",
    "import statistics\n",
    "x= [150,250,350,450]\n",
    "print (statistics.mean(x))\n",
    "print (statistics.median(x))\n",
    "print (statistics.mode(x))"
   ]
  },
  {
   "cell_type": "code",
   "execution_count": null,
   "id": "78fb8af5",
   "metadata": {},
   "outputs": [],
   "source": []
  }
 ],
 "metadata": {
  "kernelspec": {
   "display_name": "Python 3 (ipykernel)",
   "language": "python",
   "name": "python3"
  },
  "language_info": {
   "codemirror_mode": {
    "name": "ipython",
    "version": 3
   },
   "file_extension": ".py",
   "mimetype": "text/x-python",
   "name": "python",
   "nbconvert_exporter": "python",
   "pygments_lexer": "ipython3",
   "version": "3.9.12"
  }
 },
 "nbformat": 4,
 "nbformat_minor": 5
}
